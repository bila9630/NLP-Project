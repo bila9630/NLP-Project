{
 "cells": [
  {
   "cell_type": "markdown",
   "metadata": {},
   "source": [
    "## Portfolio NLP\n",
    "##### Idee: Inhaltliche Klassifikation von Zeitungsartikeln - Zeitungsartikel sollen automatisch je nach Titeln und kurzer Beschreibung in Kategorien eingeteilt werden.\n",
    "##### Dabei werden verschiedene ML Modelle getestet, evaluiert und auf die Kompatibilität mit dem Anwendungsfall überprüft.\n",
    "##### Für die Modelle nutzen wir einen Datensatz von Kaggle. Dieser enthält etwa 210.000 Daten. Der Datensatz besteht aus Zeitungsartikel Überschriften und kurze Beschreibungen in englischer Sprache. Die Daten sind aus den Jahren 2012 – 2022.\n",
    "\n",
    "##### Datensatz: News Category Dataset | Kaggle\n",
    "\n",
    "##### Wenn das für unseren Anwendungsfall optimale Modell gefunden wurde, werden wir eine Anwenderoberfläche mit dem Framework Streamlit entwickeln. Der Benutzer soll einen Titel und (wenn vorhanden) eine kurze Beschreibung oder das Abstract des Artikels eingeben. Daraufhin gibt das Modell gibt eine Kategorie als Antwort zurück. Darüber hinaus werden wir die Anwendung deployen, damit jeder unsere Anwendung nutzen kann.\n",
    "\n",
    "##### Github Repo: GitHub - bila9630/NLP-Project\n",
    "\n",
    "##### Gruppe: Hannah Schult, Duc Viet Kieu, Marvin Spurk, Caroline Schmidt, Sofie Pischl"
   ]
  },
  {
   "cell_type": "code",
   "execution_count": 1,
   "metadata": {},
   "outputs": [
    {
     "name": "stderr",
     "output_type": "stream",
     "text": [
      "[nltk_data] Downloading package stopwords to\n",
      "[nltk_data]     C:\\Users\\schul\\AppData\\Roaming\\nltk_data...\n",
      "[nltk_data]   Package stopwords is already up-to-date!\n",
      "[nltk_data] Downloading package punkt to\n",
      "[nltk_data]     C:\\Users\\schul\\AppData\\Roaming\\nltk_data...\n",
      "[nltk_data]   Package punkt is already up-to-date!\n"
     ]
    }
   ],
   "source": [
    "import pandas as pd\n",
    "import matplotlib.pyplot as plt\n",
    "import seaborn as sns\n",
    "import numpy as np\n",
    "import warnings\n",
    "warnings.filterwarnings('ignore')\n",
    "\n",
    "import nltk\n",
    "from nltk.corpus import stopwords\n",
    "from nltk.tokenize import word_tokenize \n",
    "nltk.download('stopwords')\n",
    "nltk.download('punkt')\n",
    "STOPWORDS = set(stopwords.words('english'))\n",
    "\n",
    "from sklearn.utils import shuffle\n"
   ]
  },
  {
   "cell_type": "code",
   "execution_count": 2,
   "metadata": {},
   "outputs": [
    {
     "data": {
      "text/html": [
       "<div>\n",
       "<style scoped>\n",
       "    .dataframe tbody tr th:only-of-type {\n",
       "        vertical-align: middle;\n",
       "    }\n",
       "\n",
       "    .dataframe tbody tr th {\n",
       "        vertical-align: top;\n",
       "    }\n",
       "\n",
       "    .dataframe thead th {\n",
       "        text-align: right;\n",
       "    }\n",
       "</style>\n",
       "<table border=\"1\" class=\"dataframe\">\n",
       "  <thead>\n",
       "    <tr style=\"text-align: right;\">\n",
       "      <th></th>\n",
       "      <th>link</th>\n",
       "      <th>headline</th>\n",
       "      <th>category</th>\n",
       "      <th>short_description</th>\n",
       "      <th>authors</th>\n",
       "      <th>date</th>\n",
       "    </tr>\n",
       "  </thead>\n",
       "  <tbody>\n",
       "    <tr>\n",
       "      <th>0</th>\n",
       "      <td>https://www.huffpost.com/entry/covid-boosters-...</td>\n",
       "      <td>Over 4 Million Americans Roll Up Sleeves For O...</td>\n",
       "      <td>U.S. NEWS</td>\n",
       "      <td>Health experts said it is too early to predict...</td>\n",
       "      <td>Carla K. Johnson, AP</td>\n",
       "      <td>2022-09-23</td>\n",
       "    </tr>\n",
       "    <tr>\n",
       "      <th>1</th>\n",
       "      <td>https://www.huffpost.com/entry/american-airlin...</td>\n",
       "      <td>American Airlines Flyer Charged, Banned For Li...</td>\n",
       "      <td>U.S. NEWS</td>\n",
       "      <td>He was subdued by passengers and crew when he ...</td>\n",
       "      <td>Mary Papenfuss</td>\n",
       "      <td>2022-09-23</td>\n",
       "    </tr>\n",
       "    <tr>\n",
       "      <th>2</th>\n",
       "      <td>https://www.huffpost.com/entry/funniest-tweets...</td>\n",
       "      <td>23 Of The Funniest Tweets About Cats And Dogs ...</td>\n",
       "      <td>COMEDY</td>\n",
       "      <td>\"Until you have a dog you don't understand wha...</td>\n",
       "      <td>Elyse Wanshel</td>\n",
       "      <td>2022-09-23</td>\n",
       "    </tr>\n",
       "  </tbody>\n",
       "</table>\n",
       "</div>"
      ],
      "text/plain": [
       "                                                link  \\\n",
       "0  https://www.huffpost.com/entry/covid-boosters-...   \n",
       "1  https://www.huffpost.com/entry/american-airlin...   \n",
       "2  https://www.huffpost.com/entry/funniest-tweets...   \n",
       "\n",
       "                                            headline   category  \\\n",
       "0  Over 4 Million Americans Roll Up Sleeves For O...  U.S. NEWS   \n",
       "1  American Airlines Flyer Charged, Banned For Li...  U.S. NEWS   \n",
       "2  23 Of The Funniest Tweets About Cats And Dogs ...     COMEDY   \n",
       "\n",
       "                                   short_description               authors  \\\n",
       "0  Health experts said it is too early to predict...  Carla K. Johnson, AP   \n",
       "1  He was subdued by passengers and crew when he ...        Mary Papenfuss   \n",
       "2  \"Until you have a dog you don't understand wha...         Elyse Wanshel   \n",
       "\n",
       "        date  \n",
       "0 2022-09-23  \n",
       "1 2022-09-23  \n",
       "2 2022-09-23  "
      ]
     },
     "execution_count": 2,
     "metadata": {},
     "output_type": "execute_result"
    }
   ],
   "source": [
    "data = pd.read_json('C:\\\\Users\\\\schul\\\\Desktop\\\\DHBW\\\\Semester5\\\\Aktuelle Data Science\\\\Portfolio\\\\archive\\\\News_Category_Dataset_v3.json', lines=True)\n",
    "data.head(3)"
   ]
  },
  {
   "cell_type": "code",
   "execution_count": 3,
   "metadata": {},
   "outputs": [
    {
     "name": "stdout",
     "output_type": "stream",
     "text": [
      "Unique elements in column \"category\" \n",
      "['U.S. NEWS' 'COMEDY' 'PARENTING' 'WORLD NEWS' 'CULTURE & ARTS' 'TECH'\n",
      " 'SPORTS' 'ENTERTAINMENT' 'POLITICS' 'WEIRD NEWS' 'ENVIRONMENT'\n",
      " 'EDUCATION' 'CRIME' 'SCIENCE' 'WELLNESS' 'BUSINESS' 'STYLE & BEAUTY'\n",
      " 'FOOD & DRINK' 'MEDIA' 'QUEER VOICES' 'HOME & LIVING' 'WOMEN'\n",
      " 'BLACK VOICES' 'TRAVEL' 'MONEY' 'RELIGION' 'LATINO VOICES' 'IMPACT'\n",
      " 'WEDDINGS' 'COLLEGE' 'PARENTS' 'ARTS & CULTURE' 'STYLE' 'GREEN' 'TASTE'\n",
      " 'HEALTHY LIVING' 'THE WORLDPOST' 'GOOD NEWS' 'WORLDPOST' 'FIFTY' 'ARTS'\n",
      " 'DIVORCE']\n"
     ]
    }
   ],
   "source": [
    "# Get a series of unique values in column 'Age' of the dataframe\n",
    "uniqueValues = data['category'].unique()\n",
    "print('Unique elements in column \"category\" ')\n",
    "print(uniqueValues)"
   ]
  },
  {
   "cell_type": "code",
   "execution_count": 4,
   "metadata": {},
   "outputs": [
    {
     "name": "stdout",
     "output_type": "stream",
     "text": [
      "Number of unique values in column \"category\" of the dataframe : \n",
      "42\n"
     ]
    }
   ],
   "source": [
    "# Count unique values in column 'Age' of the dataframe\n",
    "uniqueValues_number = data['category'].nunique()\n",
    "print('Number of unique values in column \"category\" of the dataframe : ')\n",
    "print(uniqueValues_number)"
   ]
  },
  {
   "cell_type": "code",
   "execution_count": 5,
   "metadata": {},
   "outputs": [
    {
     "name": "stdout",
     "output_type": "stream",
     "text": [
      "POLITICS          35602\n",
      "WELLNESS          17945\n",
      "ENTERTAINMENT     17362\n",
      "TRAVEL             9900\n",
      "STYLE & BEAUTY     9814\n",
      "PARENTING          8791\n",
      "HEALTHY LIVING     6694\n",
      "QUEER VOICES       6347\n",
      "FOOD & DRINK       6340\n",
      "BUSINESS           5992\n",
      "COMEDY             5400\n",
      "SPORTS             5077\n",
      "BLACK VOICES       4583\n",
      "HOME & LIVING      4320\n",
      "PARENTS            3955\n",
      "THE WORLDPOST      3664\n",
      "WEDDINGS           3653\n",
      "WOMEN              3572\n",
      "CRIME              3562\n",
      "IMPACT             3484\n",
      "DIVORCE            3426\n",
      "WORLD NEWS         3299\n",
      "MEDIA              2944\n",
      "WEIRD NEWS         2777\n",
      "GREEN              2622\n",
      "WORLDPOST          2579\n",
      "RELIGION           2577\n",
      "STYLE              2254\n",
      "SCIENCE            2206\n",
      "TECH               2104\n",
      "TASTE              2096\n",
      "MONEY              1756\n",
      "ARTS               1509\n",
      "ENVIRONMENT        1444\n",
      "FIFTY              1401\n",
      "GOOD NEWS          1398\n",
      "U.S. NEWS          1377\n",
      "ARTS & CULTURE     1339\n",
      "COLLEGE            1144\n",
      "LATINO VOICES      1130\n",
      "CULTURE & ARTS     1074\n",
      "EDUCATION          1014\n",
      "Name: category, dtype: int64\n"
     ]
    }
   ],
   "source": [
    "freq = data['category'].value_counts() \n",
    "print(freq) "
   ]
  },
  {
   "cell_type": "code",
   "execution_count": 6,
   "metadata": {},
   "outputs": [
    {
     "data": {
      "image/png": "[encoded data removed]",
      "text/plain": [
       "<Figure size 1500x800 with 1 Axes>"
      ]
     },
     "metadata": {},
     "output_type": "display_data"
    }
   ],
   "source": [
    "# bar cities\n",
    "plt.figure(figsize=(15,8))\n",
    "sns.barplot(data=data['category'].value_counts().head(15).reset_index(),\n",
    "        y='index',x='category')\n",
    "plt.xticks(fontsize=13)\n",
    "plt.xlabel(\"Frequency\",fontsize=14)\n",
    "plt.yticks(fontsize=13)\n",
    "plt.ylabel(\"category\",fontsize=14)\n",
    "# plt.savefig('pie_cities.png')\n",
    "plt.show()\n",
    "\n",
    "## Politik kürzen"
   ]
  },
  {
   "cell_type": "code",
   "execution_count": 7,
   "metadata": {},
   "outputs": [],
   "source": [
    "data.drop(['authors','link','date'],axis=1,inplace=True)\n",
    "data['Text'] = data['headline'] + data['short_description']\n",
    "data.drop(['headline','short_description'],axis=1,inplace=True)"
   ]
  },
  {
   "cell_type": "code",
   "execution_count": 8,
   "metadata": {},
   "outputs": [
    {
     "data": {
      "text/html": [
       "<div>\n",
       "<style scoped>\n",
       "    .dataframe tbody tr th:only-of-type {\n",
       "        vertical-align: middle;\n",
       "    }\n",
       "\n",
       "    .dataframe tbody tr th {\n",
       "        vertical-align: top;\n",
       "    }\n",
       "\n",
       "    .dataframe thead th {\n",
       "        text-align: right;\n",
       "    }\n",
       "</style>\n",
       "<table border=\"1\" class=\"dataframe\">\n",
       "  <thead>\n",
       "    <tr style=\"text-align: right;\">\n",
       "      <th></th>\n",
       "      <th>category</th>\n",
       "      <th>Text</th>\n",
       "    </tr>\n",
       "  </thead>\n",
       "  <tbody>\n",
       "    <tr>\n",
       "      <th>0</th>\n",
       "      <td>U.S. NEWS</td>\n",
       "      <td>Over 4 Million Americans Roll Up Sleeves For O...</td>\n",
       "    </tr>\n",
       "    <tr>\n",
       "      <th>1</th>\n",
       "      <td>U.S. NEWS</td>\n",
       "      <td>American Airlines Flyer Charged, Banned For Li...</td>\n",
       "    </tr>\n",
       "    <tr>\n",
       "      <th>2</th>\n",
       "      <td>COMEDY</td>\n",
       "      <td>23 Of The Funniest Tweets About Cats And Dogs ...</td>\n",
       "    </tr>\n",
       "    <tr>\n",
       "      <th>3</th>\n",
       "      <td>PARENTING</td>\n",
       "      <td>The Funniest Tweets From Parents This Week (Se...</td>\n",
       "    </tr>\n",
       "    <tr>\n",
       "      <th>4</th>\n",
       "      <td>U.S. NEWS</td>\n",
       "      <td>Woman Who Called Cops On Black Bird-Watcher Lo...</td>\n",
       "    </tr>\n",
       "  </tbody>\n",
       "</table>\n",
       "</div>"
      ],
      "text/plain": [
       "    category                                               Text\n",
       "0  U.S. NEWS  Over 4 Million Americans Roll Up Sleeves For O...\n",
       "1  U.S. NEWS  American Airlines Flyer Charged, Banned For Li...\n",
       "2     COMEDY  23 Of The Funniest Tweets About Cats And Dogs ...\n",
       "3  PARENTING  The Funniest Tweets From Parents This Week (Se...\n",
       "4  U.S. NEWS  Woman Who Called Cops On Black Bird-Watcher Lo..."
      ]
     },
     "execution_count": 8,
     "metadata": {},
     "output_type": "execute_result"
    }
   ],
   "source": [
    "data.head()"
   ]
  },
  {
   "cell_type": "code",
   "execution_count": 9,
   "metadata": {},
   "outputs": [],
   "source": [
    "#Handle Multiclass Imbalance Datasets\n",
    "def Imbalance_to_balance(df,No_of_sample):\n",
    "    \n",
    "    # Dict used to store data class wise\n",
    "    df_dic = {}\n",
    "    \n",
    "    # Create dataframe to store data after sampling\n",
    "    df_new = pd.DataFrame(columns=['category','Text'])\n",
    "    \n",
    "    #cal use to iterate over each class in target col\n",
    "    for cal in df['category'].unique():\n",
    "        \n",
    "        # Filtering class from target which has more than No_of_sample row\n",
    "        if df[df['category'] == cal].shape[0] > No_of_sample:\n",
    "            \n",
    "            #Extracting 4000 sample class wise from dataframe\n",
    "            df_dic[cal] = df[df['category'] == cal].sample(No_of_sample,random_state=42,ignore_index=True)\n",
    "    \n",
    "    # store all class which has more than 4000 row\n",
    "    cal = list(df_dic.keys())\n",
    "    for classs in cal:\n",
    "        \n",
    "        #concate data of each class into new data frame\n",
    "        df_new = pd.concat([df_new,df_dic[f\"{classs}\"]],axis=0)\n",
    "    \n",
    "    return shuffle(df_new)"
   ]
  },
  {
   "cell_type": "code",
   "execution_count": 10,
   "metadata": {},
   "outputs": [],
   "source": [
    "df= Imbalance_to_balance(data,8000)"
   ]
  },
  {
   "cell_type": "code",
   "execution_count": 11,
   "metadata": {},
   "outputs": [
    {
     "data": {
      "text/plain": [
       "1393    Trump Boasts He Likely Saved 'Billions' Of Liv...\n",
       "509     Teaching Your Teen Money SkillsHere are eight ...\n",
       "3163    20 Unique Places That Prove Our Planet Is Awes...\n",
       "928     RNC Chair Says 'People Just Don't Care' About ...\n",
       "2623    Healthy And Vegan New York Eats, Part 1New Yor...\n",
       "Name: Text, dtype: object"
      ]
     },
     "execution_count": 11,
     "metadata": {},
     "output_type": "execute_result"
    }
   ],
   "source": [
    "df['Text'].head()"
   ]
  },
  {
   "cell_type": "code",
   "execution_count": 12,
   "metadata": {},
   "outputs": [
    {
     "data": {
      "text/plain": [
       "POLITICS          8000\n",
       "PARENTING         8000\n",
       "TRAVEL            8000\n",
       "ENTERTAINMENT     8000\n",
       "STYLE & BEAUTY    8000\n",
       "WELLNESS          8000\n",
       "Name: category, dtype: int64"
      ]
     },
     "execution_count": 12,
     "metadata": {},
     "output_type": "execute_result"
    }
   ],
   "source": [
    "df['category'].value_counts()"
   ]
  },
  {
   "cell_type": "code",
   "execution_count": 13,
   "metadata": {},
   "outputs": [
    {
     "data": {
      "text/plain": [
       "244"
      ]
     },
     "execution_count": 13,
     "metadata": {},
     "output_type": "execute_result"
    }
   ],
   "source": [
    "max_len = df['Text'].apply(lambda x:len(x.split())).max()\n",
    "max_len"
   ]
  },
  {
   "cell_type": "code",
   "execution_count": 14,
   "metadata": {},
   "outputs": [],
   "source": [
    "import re\n",
    "def process_text(text):\n",
    "    text = text.lower().replace('\\n',' ').replace('\\r','').strip()\n",
    "    text = re.sub(' +', ' ', text)\n",
    "    text = re.sub(r'[^\\w\\s]','',text)\n",
    "    text = re.sub(r'[0-9]','',text)\n",
    "    stop_words = set(stopwords.words('english')) \n",
    "    word_tokens = word_tokenize(text) \n",
    "    filtered_sentence = [w for w in word_tokens if not w in stop_words] \n",
    "    filtered_sentence = [] \n",
    "    for w in word_tokens: \n",
    "        if w not in stop_words: \n",
    "            filtered_sentence.append(w) \n",
    "    \n",
    "    text = \" \".join(filtered_sentence)\n",
    "    return text"
   ]
  },
  {
   "cell_type": "code",
   "execution_count": 15,
   "metadata": {},
   "outputs": [],
   "source": [
    "df['Text'] = df['Text'].apply(lambda x:process_text(x))"
   ]
  },
  {
   "cell_type": "code",
   "execution_count": 16,
   "metadata": {},
   "outputs": [
    {
     "data": {
      "text/plain": [
       "140"
      ]
     },
     "execution_count": 16,
     "metadata": {},
     "output_type": "execute_result"
    }
   ],
   "source": [
    "max_len = df['Text'].apply(lambda x:len(x.split())).max()\n",
    "max_len"
   ]
  },
  {
   "cell_type": "code",
   "execution_count": 17,
   "metadata": {},
   "outputs": [],
   "source": [
    "label_dic = {}\n",
    "for key, label in enumerate(df['category'].unique()):\n",
    "    label_dic[label] = key"
   ]
  },
  {
   "cell_type": "code",
   "execution_count": 18,
   "metadata": {},
   "outputs": [
    {
     "name": "stdout",
     "output_type": "stream",
     "text": [
      "{'POLITICS': 0, 'PARENTING': 1, 'TRAVEL': 2, 'ENTERTAINMENT': 3, 'STYLE & BEAUTY': 4, 'WELLNESS': 5}\n"
     ]
    }
   ],
   "source": [
    "print(label_dic)"
   ]
  },
  {
   "cell_type": "code",
   "execution_count": 29,
   "metadata": {},
   "outputs": [
    {
     "data": {
      "text/plain": [
       "{'POLITICS': 0,\n",
       " 'PARENTING': 1,\n",
       " 'TRAVEL': 2,\n",
       " 'ENTERTAINMENT': 3,\n",
       " 'STYLE & BEAUTY': 4,\n",
       " 'WELLNESS': 5}"
      ]
     },
     "execution_count": 29,
     "metadata": {},
     "output_type": "execute_result"
    }
   ],
   "source": [
    "label_dic"
   ]
  },
  {
   "attachments": {},
   "cell_type": "markdown",
   "metadata": {},
   "source": [
    "### Models"
   ]
  },
  {
   "cell_type": "code",
   "execution_count": 36,
   "metadata": {},
   "outputs": [],
   "source": [
    "from sklearn.tree import DecisionTreeClassifier, ExtraTreeClassifier\n",
    "from sklearn.ensemble import RandomForestClassifier, RandomTreesEmbedding\n",
    "from xgboost import XGBRFClassifier\n",
    "from xgboost import XGBClassifier\n",
    "from sklearn.naive_bayes import GaussianNB\n",
    "from sklearn.model_selection import cross_val_score\n",
    "from sklearn.neighbors import KNeighborsClassifier\n",
    "from sklearn.svm import LinearSVC\n",
    "from xgboost import XGBClassifier\n",
    "from sklearn import svm\n",
    "\n",
    "\n",
    "models = []\n",
    "models.append((\"DecisionTree\",DecisionTreeClassifier()))\n",
    "models.append((\"RandomForest\",RandomForestClassifier()))\n",
    "models.append((\"ExtraTreeClassifier\",ExtraTreeClassifier()))\n",
    "#models.append((\"XGBRFClassifier\",XGBRFClassifier()))\n",
    "#models.append((\"XGBClassifier\",XGBClassifier()))\n",
    "models.append((\"ExtraTreeClassifier\",ExtraTreeClassifier()))\n",
    "models.append((\"LinearSVC\",LinearSVC()))\n",
    "models.append((\"KNeighbors\",KNeighborsClassifier()))\n",
    "\n",
    "\n",
    "# results = []\n",
    "# namwarnings[]\n",
    "# for name,model in models:\n",
    "#     result = cross_val_score(model, X, y,  cv=5)\n",
    "#     names.append(name)\n",
    "#     results.append(result)\n",
    "\n",
    "# for i in range(len(names)):\n",
    "#     print(names[i],results[i].mean())"
   ]
  },
  {
   "cell_type": "code",
   "execution_count": 20,
   "metadata": {},
   "outputs": [],
   "source": [
    "from sklearn.model_selection import train_test_split\n",
    "from sklearn.metrics import classification_report"
   ]
  },
  {
   "cell_type": "code",
   "execution_count": 21,
   "metadata": {},
   "outputs": [
    {
     "data": {
      "text/plain": [
       "140"
      ]
     },
     "execution_count": 21,
     "metadata": {},
     "output_type": "execute_result"
    }
   ],
   "source": [
    "max_len = df['Text'].apply(lambda x:len(x.split())).max()\n",
    "max_len"
   ]
  },
  {
   "attachments": {},
   "cell_type": "markdown",
   "metadata": {},
   "source": [
    "## TF-IDF"
   ]
  },
  {
   "cell_type": "code",
   "execution_count": 22,
   "metadata": {},
   "outputs": [],
   "source": [
    "from keras.preprocessing.text import Tokenizer\n",
    "from tensorflow.keras.preprocessing.sequence import pad_sequences\n",
    "from sklearn.feature_extraction.text import TfidfVectorizer\n",
    "vectorizer = TfidfVectorizer()\n",
    "tokenizer = Tokenizer()"
   ]
  },
  {
   "cell_type": "code",
   "execution_count": null,
   "metadata": {},
   "outputs": [],
   "source": []
  },
  {
   "cell_type": "code",
   "execution_count": 23,
   "metadata": {},
   "outputs": [],
   "source": [
    "TRAIN_SIZE = 0.8\n",
    "MAX_NB_WORDS = 1000\n",
    "max_len = int(round(df['Text'].apply(lambda x: len(str(x).split())).max()))"
   ]
  },
  {
   "cell_type": "code",
   "execution_count": 24,
   "metadata": {},
   "outputs": [],
   "source": [
    "def TF_IDF_ML(X,y):\n",
    "    tokenizer.fit_on_texts(X)\n",
    "    word_index = tokenizer.word_index\n",
    "    vocab_size = len(tokenizer.word_index) + 1\n",
    "    \n",
    "    #print(\"Vocabulary Size :\", vocab_size)\n",
    "    \n",
    "    X_train, X_test, y_train, y_test = train_test_split(X,y,test_size=0.30, random_state=42)\n",
    "    \n",
    "    \n",
    "    X_train = pad_sequences(tokenizer.texts_to_sequences(X_train),\n",
    "                        maxlen = max_len)\n",
    "    X_test = pad_sequences(tokenizer.texts_to_sequences(X_test),\n",
    "                       maxlen = max_len)\n",
    "    return X_train, X_test, y_train, y_test"
   ]
  },
  {
   "cell_type": "code",
   "execution_count": 25,
   "metadata": {},
   "outputs": [],
   "source": [
    "X_train, X_test, y_train, y_test = TF_IDF_ML(df['Text'],df['category'])"
   ]
  },
  {
   "cell_type": "code",
   "execution_count": 26,
   "metadata": {},
   "outputs": [],
   "source": [
    "from sklearn.metrics import classification_report\n",
    "def Train_Model(model):\n",
    "    model.fit(X_train,y_train)\n",
    "    return print(classification_report(y_test,model.predict(X_test)))"
   ]
  },
  {
   "cell_type": "code",
   "execution_count": 37,
   "metadata": {},
   "outputs": [
    {
     "name": "stdout",
     "output_type": "stream",
     "text": [
      "DecisionTree\n",
      "                precision    recall  f1-score   support\n",
      "\n",
      " ENTERTAINMENT       0.37      0.34      0.36      2504\n",
      "     PARENTING       0.23      0.23      0.23      2371\n",
      "      POLITICS       0.27      0.27      0.27      2321\n",
      "STYLE & BEAUTY       0.29      0.29      0.29      2436\n",
      "        TRAVEL       0.21      0.21      0.21      2423\n",
      "      WELLNESS       0.23      0.24      0.24      2345\n",
      "\n",
      "      accuracy                           0.27     14400\n",
      "     macro avg       0.27      0.26      0.27     14400\n",
      "  weighted avg       0.27      0.27      0.27     14400\n",
      "\n",
      "None\n",
      "\n",
      "\n",
      "\n",
      "RandomForest\n",
      "                precision    recall  f1-score   support\n",
      "\n",
      " ENTERTAINMENT       0.51      0.49      0.50      2504\n",
      "     PARENTING       0.32      0.38      0.35      2371\n",
      "      POLITICS       0.38      0.33      0.35      2321\n",
      "STYLE & BEAUTY       0.37      0.48      0.42      2436\n",
      "        TRAVEL       0.30      0.21      0.25      2423\n",
      "      WELLNESS       0.30      0.29      0.29      2345\n",
      "\n",
      "      accuracy                           0.36     14400\n",
      "     macro avg       0.36      0.36      0.36     14400\n",
      "  weighted avg       0.36      0.36      0.36     14400\n",
      "\n",
      "None\n",
      "\n",
      "\n",
      "\n",
      "ExtraTreeClassifier\n",
      "                precision    recall  f1-score   support\n",
      "\n",
      " ENTERTAINMENT       0.33      0.31      0.32      2504\n",
      "     PARENTING       0.22      0.22      0.22      2371\n",
      "      POLITICS       0.23      0.24      0.23      2321\n",
      "STYLE & BEAUTY       0.26      0.25      0.26      2436\n",
      "        TRAVEL       0.21      0.20      0.20      2423\n",
      "      WELLNESS       0.22      0.24      0.23      2345\n",
      "\n",
      "      accuracy                           0.24     14400\n",
      "     macro avg       0.24      0.24      0.24     14400\n",
      "  weighted avg       0.25      0.24      0.24     14400\n",
      "\n",
      "None\n",
      "\n",
      "\n",
      "\n",
      "ExtraTreeClassifier\n",
      "                precision    recall  f1-score   support\n",
      "\n",
      " ENTERTAINMENT       0.32      0.30      0.31      2504\n",
      "     PARENTING       0.21      0.22      0.22      2371\n",
      "      POLITICS       0.23      0.24      0.23      2321\n",
      "STYLE & BEAUTY       0.25      0.25      0.25      2436\n",
      "        TRAVEL       0.20      0.20      0.20      2423\n",
      "      WELLNESS       0.22      0.22      0.22      2345\n",
      "\n",
      "      accuracy                           0.24     14400\n",
      "     macro avg       0.24      0.24      0.24     14400\n",
      "  weighted avg       0.24      0.24      0.24     14400\n",
      "\n",
      "None\n",
      "\n",
      "\n",
      "\n",
      "LinearSVC\n",
      "                precision    recall  f1-score   support\n",
      "\n",
      " ENTERTAINMENT       0.30      0.14      0.19      2504\n",
      "     PARENTING       0.22      0.03      0.06      2371\n",
      "      POLITICS       0.21      0.30      0.25      2321\n",
      "STYLE & BEAUTY       0.22      0.12      0.16      2436\n",
      "        TRAVEL       0.19      0.20      0.20      2423\n",
      "      WELLNESS       0.19      0.47      0.27      2345\n",
      "\n",
      "      accuracy                           0.21     14400\n",
      "     macro avg       0.22      0.21      0.19     14400\n",
      "  weighted avg       0.22      0.21      0.19     14400\n",
      "\n",
      "None\n",
      "\n",
      "\n",
      "\n",
      "KNeighbors\n",
      "                precision    recall  f1-score   support\n",
      "\n",
      " ENTERTAINMENT       0.34      0.45      0.39      2504\n",
      "     PARENTING       0.23      0.34      0.27      2371\n",
      "      POLITICS       0.25      0.25      0.25      2321\n",
      "STYLE & BEAUTY       0.30      0.24      0.26      2436\n",
      "        TRAVEL       0.21      0.13      0.16      2423\n",
      "      WELLNESS       0.27      0.23      0.24      2345\n",
      "\n",
      "      accuracy                           0.27     14400\n",
      "     macro avg       0.27      0.27      0.26     14400\n",
      "  weighted avg       0.27      0.27      0.26     14400\n",
      "\n",
      "None\n",
      "\n",
      "\n",
      "\n"
     ]
    }
   ],
   "source": [
    "for model in models:\n",
    "    print(model[0])\n",
    "    print(Train_Model(model[1]))\n",
    "    print(\"\\n\\n\")"
   ]
  },
  {
   "attachments": {},
   "cell_type": "markdown",
   "metadata": {},
   "source": [
    "DecisionTree\n",
    "                precision    recall  f1-score   support\n",
    "\n",
    " ENTERTAINMENT       0.37      0.34      0.36      2504\n",
    "     PARENTING       0.23      0.23      0.23      2371\n",
    "      POLITICS       0.27      0.27      0.27      2321\n",
    "STYLE & BEAUTY       0.29      0.29      0.29      2436\n",
    "        TRAVEL       0.21      0.21      0.21      2423\n",
    "      WELLNESS       0.23      0.24      0.24      2345\n",
    "\n",
    "      accuracy                           0.27     14400\n",
    "     macro avg       0.27      0.26      0.27     14400\n",
    "  weighted avg       0.27      0.27      0.27     14400\n",
    "\n",
    "None\n",
    "\n",
    "\n",
    "\n",
    "RandomForest\n",
    "                precision    recall  f1-score   support\n",
    "\n",
    " ENTERTAINMENT       0.51      0.49      0.50      2504\n",
    "     PARENTING       0.32      0.38      0.35      2371\n",
    "      POLITICS       0.38      0.33      0.35      2321\n",
    "STYLE & BEAUTY       0.37      0.48      0.42      2436\n",
    "        TRAVEL       0.30      0.21      0.25      2423\n",
    "      WELLNESS       0.30      0.29      0.29      2345\n",
    "\n",
    "      accuracy                           0.36     14400\n",
    "     macro avg       0.36      0.36      0.36     14400\n",
    "  weighted avg       0.36      0.36      0.36     14400\n",
    "\n",
    "None\n",
    "\n",
    "\n",
    "\n",
    "ExtraTreeClassifier\n",
    "                precision    recall  f1-score   support\n",
    "\n",
    " ENTERTAINMENT       0.33      0.31      0.32      2504\n",
    "     PARENTING       0.22      0.22      0.22      2371\n",
    "      POLITICS       0.23      0.24      0.23      2321\n",
    "STYLE & BEAUTY       0.26      0.25      0.26      2436\n",
    "        TRAVEL       0.21      0.20      0.20      2423\n",
    "      WELLNESS       0.22      0.24      0.23      2345\n",
    "\n",
    "      accuracy                           0.24     14400\n",
    "     macro avg       0.24      0.24      0.24     14400\n",
    "  weighted avg       0.25      0.24      0.24     14400\n",
    "\n",
    "None\n",
    "\n",
    "\n",
    "\n",
    "ExtraTreeClassifier\n",
    "                precision    recall  f1-score   support\n",
    "\n",
    " ENTERTAINMENT       0.32      0.30      0.31      2504\n",
    "     PARENTING       0.21      0.22      0.22      2371\n",
    "      POLITICS       0.23      0.24      0.23      2321\n",
    "STYLE & BEAUTY       0.25      0.25      0.25      2436\n",
    "        TRAVEL       0.20      0.20      0.20      2423\n",
    "      WELLNESS       0.22      0.22      0.22      2345\n",
    "\n",
    "      accuracy                           0.24     14400\n",
    "     macro avg       0.24      0.24      0.24     14400\n",
    "  weighted avg       0.24      0.24      0.24     14400\n",
    "\n",
    "None\n",
    "\n",
    "\n",
    "\n",
    "LinearSVC\n",
    "                precision    recall  f1-score   support\n",
    "\n",
    " ENTERTAINMENT       0.30      0.14      0.19      2504\n",
    "     PARENTING       0.22      0.03      0.06      2371\n",
    "      POLITICS       0.21      0.30      0.25      2321\n",
    "STYLE & BEAUTY       0.22      0.12      0.16      2436\n",
    "        TRAVEL       0.19      0.20      0.20      2423\n",
    "      WELLNESS       0.19      0.47      0.27      2345\n",
    "\n",
    "      accuracy                           0.21     14400\n",
    "     macro avg       0.22      0.21      0.19     14400\n",
    "  weighted avg       0.22      0.21      0.19     14400\n",
    "\n",
    "None\n",
    "\n",
    "\n",
    "\n",
    "KNeighbors\n",
    "                precision    recall  f1-score   support\n",
    "\n",
    " ENTERTAINMENT       0.34      0.45      0.39      2504\n",
    "     PARENTING       0.23      0.34      0.27      2371\n",
    "      POLITICS       0.25      0.25      0.25      2321\n",
    "STYLE & BEAUTY       0.30      0.24      0.26      2436\n",
    "        TRAVEL       0.21      0.13      0.16      2423\n",
    "      WELLNESS       0.27      0.23      0.24      2345\n",
    "\n",
    "      accuracy                           0.27     14400\n",
    "     macro avg       0.27      0.27      0.26     14400\n",
    "  weighted avg       0.27      0.27      0.26     14400\n",
    "\n",
    "None"
   ]
  }
 ],
 "metadata": {
  "kernelspec": {
   "display_name": "Python 3 (ipykernel)",
   "language": "python",
   "name": "python3"
  },
  "language_info": {
   "codemirror_mode": {
    "name": "ipython",
    "version": 3
   },
   "file_extension": ".py",
   "mimetype": "text/x-python",
   "name": "python",
   "nbconvert_exporter": "python",
   "pygments_lexer": "ipython3",
   "version": "3.10.2 (tags/v3.10.2:a58ebcc, Jan 17 2022, 14:12:15) [MSC v.1929 64 bit (AMD64)]"
  },
  "vscode": {
   "interpreter": {
    "hash": "369f2c481f4da34e4445cda3fffd2e751bd1c4d706f27375911949ba6bb62e1c"
   }
  }
 },
 "nbformat": 4,
 "nbformat_minor": 2
}
