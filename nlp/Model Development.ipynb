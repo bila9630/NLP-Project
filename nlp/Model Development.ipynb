{
 "cells": [
  {
   "cell_type": "markdown",
   "id": "8cca75f3",
   "metadata": {},
   "source": [
    "# Model Development\n",
    "We want to compare different models"
   ]
  },
  {
   "cell_type": "code",
   "execution_count": 39,
   "id": "815501f7",
   "metadata": {},
   "outputs": [],
   "source": [
    "# Built-in\n",
    "import re\n",
    "import pickle\n",
    "\n",
    "# Data science utils\n",
    "import pandas as pd\n",
    "import numpy as np\n",
    "from sklearn.model_selection import train_test_split\n",
    "from lazypredict.Supervised import LazyClassifier\n",
    "from sklearn.preprocessing import LabelEncoder, OneHotEncoder\n",
    "from sklearn.metrics import classification_report\n",
    "\n",
    "# NLP\n",
    "from nltk.corpus import stopwords\n",
    "from nltk.tokenize import word_tokenize\n",
    "from keras.preprocessing.text import Tokenizer\n",
    "from tensorflow.keras.preprocessing.sequence import pad_sequences\n",
    "from sklearn.feature_extraction.text import TfidfVectorizer"
   ]
  },
  {
   "cell_type": "code",
   "execution_count": 2,
   "id": "cce483b1",
   "metadata": {
    "scrolled": true
   },
   "outputs": [
    {
     "data": {
      "text/html": [
       "<div>\n",
       "<style scoped>\n",
       "    .dataframe tbody tr th:only-of-type {\n",
       "        vertical-align: middle;\n",
       "    }\n",
       "\n",
       "    .dataframe tbody tr th {\n",
       "        vertical-align: top;\n",
       "    }\n",
       "\n",
       "    .dataframe thead th {\n",
       "        text-align: right;\n",
       "    }\n",
       "</style>\n",
       "<table border=\"1\" class=\"dataframe\">\n",
       "  <thead>\n",
       "    <tr style=\"text-align: right;\">\n",
       "      <th></th>\n",
       "      <th>link</th>\n",
       "      <th>headline</th>\n",
       "      <th>category</th>\n",
       "      <th>short_description</th>\n",
       "      <th>authors</th>\n",
       "      <th>date</th>\n",
       "    </tr>\n",
       "  </thead>\n",
       "  <tbody>\n",
       "    <tr>\n",
       "      <th>0</th>\n",
       "      <td>https://www.huffpost.com/entry/covid-boosters-...</td>\n",
       "      <td>Over 4 Million Americans Roll Up Sleeves For O...</td>\n",
       "      <td>U.S. NEWS</td>\n",
       "      <td>Health experts said it is too early to predict...</td>\n",
       "      <td>Carla K. Johnson, AP</td>\n",
       "      <td>2022-09-23</td>\n",
       "    </tr>\n",
       "    <tr>\n",
       "      <th>1</th>\n",
       "      <td>https://www.huffpost.com/entry/american-airlin...</td>\n",
       "      <td>American Airlines Flyer Charged, Banned For Li...</td>\n",
       "      <td>U.S. NEWS</td>\n",
       "      <td>He was subdued by passengers and crew when he ...</td>\n",
       "      <td>Mary Papenfuss</td>\n",
       "      <td>2022-09-23</td>\n",
       "    </tr>\n",
       "    <tr>\n",
       "      <th>2</th>\n",
       "      <td>https://www.huffpost.com/entry/funniest-tweets...</td>\n",
       "      <td>23 Of The Funniest Tweets About Cats And Dogs ...</td>\n",
       "      <td>COMEDY</td>\n",
       "      <td>\"Until you have a dog you don't understand wha...</td>\n",
       "      <td>Elyse Wanshel</td>\n",
       "      <td>2022-09-23</td>\n",
       "    </tr>\n",
       "    <tr>\n",
       "      <th>3</th>\n",
       "      <td>https://www.huffpost.com/entry/funniest-parent...</td>\n",
       "      <td>The Funniest Tweets From Parents This Week (Se...</td>\n",
       "      <td>PARENTING</td>\n",
       "      <td>\"Accidentally put grown-up toothpaste on my to...</td>\n",
       "      <td>Caroline Bologna</td>\n",
       "      <td>2022-09-23</td>\n",
       "    </tr>\n",
       "    <tr>\n",
       "      <th>4</th>\n",
       "      <td>https://www.huffpost.com/entry/amy-cooper-lose...</td>\n",
       "      <td>Woman Who Called Cops On Black Bird-Watcher Lo...</td>\n",
       "      <td>U.S. NEWS</td>\n",
       "      <td>Amy Cooper accused investment firm Franklin Te...</td>\n",
       "      <td>Nina Golgowski</td>\n",
       "      <td>2022-09-22</td>\n",
       "    </tr>\n",
       "  </tbody>\n",
       "</table>\n",
       "</div>"
      ],
      "text/plain": [
       "                                                link  \\\n",
       "0  https://www.huffpost.com/entry/covid-boosters-...   \n",
       "1  https://www.huffpost.com/entry/american-airlin...   \n",
       "2  https://www.huffpost.com/entry/funniest-tweets...   \n",
       "3  https://www.huffpost.com/entry/funniest-parent...   \n",
       "4  https://www.huffpost.com/entry/amy-cooper-lose...   \n",
       "\n",
       "                                            headline   category  \\\n",
       "0  Over 4 Million Americans Roll Up Sleeves For O...  U.S. NEWS   \n",
       "1  American Airlines Flyer Charged, Banned For Li...  U.S. NEWS   \n",
       "2  23 Of The Funniest Tweets About Cats And Dogs ...     COMEDY   \n",
       "3  The Funniest Tweets From Parents This Week (Se...  PARENTING   \n",
       "4  Woman Who Called Cops On Black Bird-Watcher Lo...  U.S. NEWS   \n",
       "\n",
       "                                   short_description               authors  \\\n",
       "0  Health experts said it is too early to predict...  Carla K. Johnson, AP   \n",
       "1  He was subdued by passengers and crew when he ...        Mary Papenfuss   \n",
       "2  \"Until you have a dog you don't understand wha...         Elyse Wanshel   \n",
       "3  \"Accidentally put grown-up toothpaste on my to...      Caroline Bologna   \n",
       "4  Amy Cooper accused investment firm Franklin Te...        Nina Golgowski   \n",
       "\n",
       "        date  \n",
       "0 2022-09-23  \n",
       "1 2022-09-23  \n",
       "2 2022-09-23  \n",
       "3 2022-09-23  \n",
       "4 2022-09-22  "
      ]
     },
     "execution_count": 2,
     "metadata": {},
     "output_type": "execute_result"
    }
   ],
   "source": [
    "# Import data\n",
    "df = pd.read_json(\"../data/News_Category_Dataset_v3.json\", orient = \"records\", lines = True)\n",
    "df.head()"
   ]
  },
  {
   "cell_type": "code",
   "execution_count": 3,
   "id": "d55bec14",
   "metadata": {},
   "outputs": [
    {
     "data": {
      "text/html": [
       "<div>\n",
       "<style scoped>\n",
       "    .dataframe tbody tr th:only-of-type {\n",
       "        vertical-align: middle;\n",
       "    }\n",
       "\n",
       "    .dataframe tbody tr th {\n",
       "        vertical-align: top;\n",
       "    }\n",
       "\n",
       "    .dataframe thead th {\n",
       "        text-align: right;\n",
       "    }\n",
       "</style>\n",
       "<table border=\"1\" class=\"dataframe\">\n",
       "  <thead>\n",
       "    <tr style=\"text-align: right;\">\n",
       "      <th></th>\n",
       "      <th>category</th>\n",
       "      <th>text</th>\n",
       "    </tr>\n",
       "  </thead>\n",
       "  <tbody>\n",
       "    <tr>\n",
       "      <th>0</th>\n",
       "      <td>U.S. NEWS</td>\n",
       "      <td>Over 4 Million Americans Roll Up Sleeves For O...</td>\n",
       "    </tr>\n",
       "    <tr>\n",
       "      <th>1</th>\n",
       "      <td>U.S. NEWS</td>\n",
       "      <td>American Airlines Flyer Charged, Banned For Li...</td>\n",
       "    </tr>\n",
       "    <tr>\n",
       "      <th>2</th>\n",
       "      <td>COMEDY</td>\n",
       "      <td>23 Of The Funniest Tweets About Cats And Dogs ...</td>\n",
       "    </tr>\n",
       "    <tr>\n",
       "      <th>3</th>\n",
       "      <td>PARENTING</td>\n",
       "      <td>The Funniest Tweets From Parents This Week (Se...</td>\n",
       "    </tr>\n",
       "    <tr>\n",
       "      <th>4</th>\n",
       "      <td>U.S. NEWS</td>\n",
       "      <td>Woman Who Called Cops On Black Bird-Watcher Lo...</td>\n",
       "    </tr>\n",
       "  </tbody>\n",
       "</table>\n",
       "</div>"
      ],
      "text/plain": [
       "    category                                               text\n",
       "0  U.S. NEWS  Over 4 Million Americans Roll Up Sleeves For O...\n",
       "1  U.S. NEWS  American Airlines Flyer Charged, Banned For Li...\n",
       "2     COMEDY  23 Of The Funniest Tweets About Cats And Dogs ...\n",
       "3  PARENTING  The Funniest Tweets From Parents This Week (Se...\n",
       "4  U.S. NEWS  Woman Who Called Cops On Black Bird-Watcher Lo..."
      ]
     },
     "execution_count": 3,
     "metadata": {},
     "output_type": "execute_result"
    }
   ],
   "source": [
    "df_filtered = df[[\"headline\", \"category\", \"short_description\"]].copy()\n",
    "df_filtered.loc[:, \"text\"] = df_filtered[\"headline\"] + df_filtered[\"short_description\"]\n",
    "df_filtered.drop([\"headline\",\"short_description\"],axis=1,inplace=True)\n",
    "df_filtered.head()"
   ]
  },
  {
   "cell_type": "code",
   "execution_count": 4,
   "id": "44190f2b",
   "metadata": {},
   "outputs": [
    {
     "name": "stdout",
     "output_type": "stream",
     "text": [
      "Number of unique categories 42\n"
     ]
    }
   ],
   "source": [
    "print(\"Number of unique categories\", df[\"category\"].nunique())"
   ]
  },
  {
   "cell_type": "code",
   "execution_count": 5,
   "id": "de6c2226",
   "metadata": {},
   "outputs": [],
   "source": [
    "# preprocess text (removing stopwords and tokenizing)\n",
    "def process_text(text):\n",
    "    # convert text to lowercase, remove newlines and carriage returns, and strip leading/trailing whitespace\n",
    "    text = text.lower().replace('\\n',' ').replace('\\r','').strip()\n",
    "    # replace multiple spaces with single space\n",
    "    text = re.sub(' +', ' ', text)\n",
    "    # remove non-alphanumeric characters and digits\n",
    "    text = re.sub(r'[^\\w\\s]','',text)\n",
    "    text = re.sub(r'[0-9]','',text)\n",
    "    # create set of english stopwords\n",
    "    stop_words = set(stopwords.words('english')) \n",
    "    # tokenize text into words\n",
    "    word_tokens = word_tokenize(text)\n",
    "    # if word not in stops_words, add word to filtered_sentence\n",
    "    filtered_sentence = [] \n",
    "    for w in word_tokens: \n",
    "        if w not in stop_words: \n",
    "            filtered_sentence.append(w) \n",
    "    \n",
    "    text = \" \".join(filtered_sentence)\n",
    "    return text"
   ]
  },
  {
   "cell_type": "code",
   "execution_count": 6,
   "id": "9d6a1a4a",
   "metadata": {
    "scrolled": false
   },
   "outputs": [],
   "source": [
    "df_filtered[\"text\"] = df_filtered[\"text\"].apply(lambda x:process_text(x))"
   ]
  },
  {
   "cell_type": "code",
   "execution_count": 7,
   "id": "3e0971e9",
   "metadata": {},
   "outputs": [],
   "source": [
    "# Converts a collection of raw documents to a matrix of TF-IDF features\n",
    "vectorizer = TfidfVectorizer()\n",
    "# Tokenize the text into sequences of integers\n",
    "tokenizer = Tokenizer()"
   ]
  },
  {
   "cell_type": "code",
   "execution_count": 8,
   "id": "e07e5984",
   "metadata": {},
   "outputs": [
    {
     "data": {
      "text/plain": [
       "140"
      ]
     },
     "execution_count": 8,
     "metadata": {},
     "output_type": "execute_result"
    }
   ],
   "source": [
    "# Get max length to calculate pad sequences later\n",
    "max_len = df_filtered[\"text\"].apply(lambda x:len(x.split())).max()\n",
    "max_len"
   ]
  },
  {
   "cell_type": "markdown",
   "id": "a27f42dc",
   "metadata": {},
   "source": [
    "Why do we need pad sequences?\n",
    "<br>Pad sequences is used to ensure that all input sequences have the same length. This is important because many machine learning models, such as neural networks, expect input data to have a fixed size. If the input sequences have different lengths, they need to be padded or truncated so that they all have the same length."
   ]
  },
  {
   "cell_type": "code",
   "execution_count": 25,
   "id": "5b843a12",
   "metadata": {},
   "outputs": [],
   "source": [
    "def TF_IDF_ML(X,y):\n",
    "    # Fit the tokenizer on the input text data\n",
    "    tokenizer.fit_on_texts(X)\n",
    "    # Create a mapping of words to their corresponding index in the vocabulary\n",
    "    word_index = tokenizer.word_index\n",
    "    # Determine the size of the vocabulary by adding 1 to the length of the word index\n",
    "    vocab_size = len(tokenizer.word_index) + 1\n",
    "    \n",
    "    # Split the input data into train and test sets, with 30% of the data being used for testing\n",
    "    X_train, X_test, y_train, y_test = train_test_split(X, y, test_size=0.30, random_state=42)\n",
    "    \n",
    "    # Pad the sequences of integers obtained by tokenizing the text to the same length\n",
    "    X_train = pad_sequences(tokenizer.texts_to_sequences(X_train),\n",
    "                        maxlen = max_len)\n",
    "    X_test = pad_sequences(tokenizer.texts_to_sequences(X_test),\n",
    "                       maxlen = max_len)\n",
    "    \n",
    "    # Return the train and test sets for both the features and labels\n",
    "    return X_train, X_test, y_train, y_test"
   ]
  },
  {
   "cell_type": "code",
   "execution_count": 26,
   "id": "963fac0e",
   "metadata": {
    "scrolled": true
   },
   "outputs": [],
   "source": [
    "X_train, X_test, y_train, y_test = TF_IDF_ML(df_filtered[\"text\"], df_filtered[\"category\"])"
   ]
  },
  {
   "cell_type": "code",
   "execution_count": 28,
   "id": "5629dfae",
   "metadata": {},
   "outputs": [],
   "source": [
    "from sklearn.tree import DecisionTreeClassifier"
   ]
  },
  {
   "cell_type": "code",
   "execution_count": 30,
   "id": "bdd0cdb5",
   "metadata": {},
   "outputs": [],
   "source": [
    "model = DecisionTreeClassifier()"
   ]
  },
  {
   "cell_type": "code",
   "execution_count": 31,
   "id": "c45a2aab",
   "metadata": {},
   "outputs": [
    {
     "data": {
      "text/html": [
       "<style>#sk-container-id-1 {color: black;background-color: white;}#sk-container-id-1 pre{padding: 0;}#sk-container-id-1 div.sk-toggleable {background-color: white;}#sk-container-id-1 label.sk-toggleable__label {cursor: pointer;display: block;width: 100%;margin-bottom: 0;padding: 0.3em;box-sizing: border-box;text-align: center;}#sk-container-id-1 label.sk-toggleable__label-arrow:before {content: \"▸\";float: left;margin-right: 0.25em;color: #696969;}#sk-container-id-1 label.sk-toggleable__label-arrow:hover:before {color: black;}#sk-container-id-1 div.sk-estimator:hover label.sk-toggleable__label-arrow:before {color: black;}#sk-container-id-1 div.sk-toggleable__content {max-height: 0;max-width: 0;overflow: hidden;text-align: left;background-color: #f0f8ff;}#sk-container-id-1 div.sk-toggleable__content pre {margin: 0.2em;color: black;border-radius: 0.25em;background-color: #f0f8ff;}#sk-container-id-1 input.sk-toggleable__control:checked~div.sk-toggleable__content {max-height: 200px;max-width: 100%;overflow: auto;}#sk-container-id-1 input.sk-toggleable__control:checked~label.sk-toggleable__label-arrow:before {content: \"▾\";}#sk-container-id-1 div.sk-estimator input.sk-toggleable__control:checked~label.sk-toggleable__label {background-color: #d4ebff;}#sk-container-id-1 div.sk-label input.sk-toggleable__control:checked~label.sk-toggleable__label {background-color: #d4ebff;}#sk-container-id-1 input.sk-hidden--visually {border: 0;clip: rect(1px 1px 1px 1px);clip: rect(1px, 1px, 1px, 1px);height: 1px;margin: -1px;overflow: hidden;padding: 0;position: absolute;width: 1px;}#sk-container-id-1 div.sk-estimator {font-family: monospace;background-color: #f0f8ff;border: 1px dotted black;border-radius: 0.25em;box-sizing: border-box;margin-bottom: 0.5em;}#sk-container-id-1 div.sk-estimator:hover {background-color: #d4ebff;}#sk-container-id-1 div.sk-parallel-item::after {content: \"\";width: 100%;border-bottom: 1px solid gray;flex-grow: 1;}#sk-container-id-1 div.sk-label:hover label.sk-toggleable__label {background-color: #d4ebff;}#sk-container-id-1 div.sk-serial::before {content: \"\";position: absolute;border-left: 1px solid gray;box-sizing: border-box;top: 0;bottom: 0;left: 50%;z-index: 0;}#sk-container-id-1 div.sk-serial {display: flex;flex-direction: column;align-items: center;background-color: white;padding-right: 0.2em;padding-left: 0.2em;position: relative;}#sk-container-id-1 div.sk-item {position: relative;z-index: 1;}#sk-container-id-1 div.sk-parallel {display: flex;align-items: stretch;justify-content: center;background-color: white;position: relative;}#sk-container-id-1 div.sk-item::before, #sk-container-id-1 div.sk-parallel-item::before {content: \"\";position: absolute;border-left: 1px solid gray;box-sizing: border-box;top: 0;bottom: 0;left: 50%;z-index: -1;}#sk-container-id-1 div.sk-parallel-item {display: flex;flex-direction: column;z-index: 1;position: relative;background-color: white;}#sk-container-id-1 div.sk-parallel-item:first-child::after {align-self: flex-end;width: 50%;}#sk-container-id-1 div.sk-parallel-item:last-child::after {align-self: flex-start;width: 50%;}#sk-container-id-1 div.sk-parallel-item:only-child::after {width: 0;}#sk-container-id-1 div.sk-dashed-wrapped {border: 1px dashed gray;margin: 0 0.4em 0.5em 0.4em;box-sizing: border-box;padding-bottom: 0.4em;background-color: white;}#sk-container-id-1 div.sk-label label {font-family: monospace;font-weight: bold;display: inline-block;line-height: 1.2em;}#sk-container-id-1 div.sk-label-container {text-align: center;}#sk-container-id-1 div.sk-container {/* jupyter's `normalize.less` sets `[hidden] { display: none; }` but bootstrap.min.css set `[hidden] { display: none !important; }` so we also need the `!important` here to be able to override the default hidden behavior on the sphinx rendered scikit-learn.org. See: https://github.com/scikit-learn/scikit-learn/issues/21755 */display: inline-block !important;position: relative;}#sk-container-id-1 div.sk-text-repr-fallback {display: none;}</style><div id=\"sk-container-id-1\" class=\"sk-top-container\"><div class=\"sk-text-repr-fallback\"><pre>DecisionTreeClassifier()</pre><b>In a Jupyter environment, please rerun this cell to show the HTML representation or trust the notebook. <br />On GitHub, the HTML representation is unable to render, please try loading this page with nbviewer.org.</b></div><div class=\"sk-container\" hidden><div class=\"sk-item\"><div class=\"sk-estimator sk-toggleable\"><input class=\"sk-toggleable__control sk-hidden--visually\" id=\"sk-estimator-id-1\" type=\"checkbox\" checked><label for=\"sk-estimator-id-1\" class=\"sk-toggleable__label sk-toggleable__label-arrow\">DecisionTreeClassifier</label><div class=\"sk-toggleable__content\"><pre>DecisionTreeClassifier()</pre></div></div></div></div></div>"
      ],
      "text/plain": [
       "DecisionTreeClassifier()"
      ]
     },
     "execution_count": 31,
     "metadata": {},
     "output_type": "execute_result"
    }
   ],
   "source": [
    "model.fit(X_train,y_train)"
   ]
  },
  {
   "cell_type": "code",
   "execution_count": 33,
   "id": "3ae74d6c",
   "metadata": {},
   "outputs": [
    {
     "name": "stdout",
     "output_type": "stream",
     "text": [
      "                precision    recall  f1-score   support\n",
      "\n",
      "          ARTS       0.04      0.03      0.03       438\n",
      "ARTS & CULTURE       0.03      0.03      0.03       388\n",
      "  BLACK VOICES       0.03      0.03      0.03      1378\n",
      "      BUSINESS       0.05      0.05      0.05      1796\n",
      "       COLLEGE       0.01      0.02      0.01       297\n",
      "        COMEDY       0.07      0.07      0.07      1620\n",
      "         CRIME       0.04      0.04      0.04      1094\n",
      "CULTURE & ARTS       0.02      0.02      0.02       309\n",
      "       DIVORCE       0.06      0.06      0.06      1013\n",
      "     EDUCATION       0.01      0.01      0.01       315\n",
      " ENTERTAINMENT       0.16      0.16      0.16      5148\n",
      "   ENVIRONMENT       0.04      0.04      0.04       442\n",
      "         FIFTY       0.04      0.04      0.04       413\n",
      "  FOOD & DRINK       0.19      0.20      0.19      1896\n",
      "     GOOD NEWS       0.02      0.02      0.02       402\n",
      "         GREEN       0.03      0.03      0.03       781\n",
      "HEALTHY LIVING       0.08      0.08      0.08      2001\n",
      " HOME & LIVING       0.09      0.09      0.09      1292\n",
      "        IMPACT       0.04      0.04      0.04      1038\n",
      " LATINO VOICES       0.01      0.01      0.01       350\n",
      "         MEDIA       0.03      0.03      0.03       880\n",
      "         MONEY       0.04      0.04      0.04       534\n",
      "     PARENTING       0.12      0.12      0.12      2673\n",
      "       PARENTS       0.06      0.06      0.06      1200\n",
      "      POLITICS       0.31      0.31      0.31     10653\n",
      "  QUEER VOICES       0.05      0.05      0.05      1899\n",
      "      RELIGION       0.07      0.07      0.07       785\n",
      "       SCIENCE       0.01      0.01      0.01       629\n",
      "        SPORTS       0.06      0.05      0.05      1532\n",
      "         STYLE       0.06      0.06      0.06       676\n",
      "STYLE & BEAUTY       0.18      0.18      0.18      3010\n",
      "         TASTE       0.05      0.05      0.05       619\n",
      "          TECH       0.05      0.05      0.05       611\n",
      " THE WORLDPOST       0.05      0.05      0.05      1103\n",
      "        TRAVEL       0.10      0.09      0.09      3073\n",
      "     U.S. NEWS       0.07      0.08      0.07       388\n",
      "      WEDDINGS       0.06      0.06      0.06      1104\n",
      "    WEIRD NEWS       0.04      0.04      0.04       837\n",
      "      WELLNESS       0.24      0.24      0.24      5423\n",
      "         WOMEN       0.06      0.06      0.06      1059\n",
      "    WORLD NEWS       0.08      0.08      0.08       967\n",
      "     WORLDPOST       0.06      0.06      0.06       793\n",
      "\n",
      "      accuracy                           0.14     62859\n",
      "     macro avg       0.07      0.07      0.07     62859\n",
      "  weighted avg       0.14      0.14      0.14     62859\n",
      "\n"
     ]
    }
   ],
   "source": [
    "print(classification_report(y_test,model.predict(X_test)))"
   ]
  },
  {
   "cell_type": "code",
   "execution_count": 36,
   "id": "b7662923",
   "metadata": {},
   "outputs": [],
   "source": [
    "# Tokenize and pad the input string\n",
    "input_string = [\"The Funniest Tweets From Parents This Week\"]\n",
    "input_string = pad_sequences(tokenizer.texts_to_sequences(input_string), maxlen = max_len)"
   ]
  },
  {
   "cell_type": "code",
   "execution_count": 38,
   "id": "ff3de467",
   "metadata": {},
   "outputs": [
    {
     "name": "stdout",
     "output_type": "stream",
     "text": [
      "['ARTS']\n"
     ]
    }
   ],
   "source": [
    "print(model.predict(input_string))"
   ]
  },
  {
   "cell_type": "code",
   "execution_count": 40,
   "id": "5ac797a7",
   "metadata": {},
   "outputs": [],
   "source": [
    "# Save the tokenizer and model to a file\n",
    "with open(\"tokenizer.pickle\", \"wb\") as handle:\n",
    "    pickle.dump(tokenizer, handle, protocol=pickle.HIGHEST_PROTOCOL)\n",
    "\n",
    "with open(\"model.pickle\", \"wb\") as handle:\n",
    "    pickle.dump(model, handle, protocol=pickle.HIGHEST_PROTOCOL)"
   ]
  },
  {
   "cell_type": "code",
   "execution_count": null,
   "id": "f9e73360",
   "metadata": {},
   "outputs": [],
   "source": []
  }
 ],
 "metadata": {
  "kernelspec": {
   "display_name": "Python 3 (ipykernel)",
   "language": "python",
   "name": "python3"
  },
  "language_info": {
   "codemirror_mode": {
    "name": "ipython",
    "version": 3
   },
   "file_extension": ".py",
   "mimetype": "text/x-python",
   "name": "python",
   "nbconvert_exporter": "python",
   "pygments_lexer": "ipython3",
   "version": "3.9.7"
  }
 },
 "nbformat": 4,
 "nbformat_minor": 5
}
